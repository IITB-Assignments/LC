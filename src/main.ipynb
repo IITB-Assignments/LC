{
 "cells": [
  {
   "cell_type": "code",
   "execution_count": 10,
   "metadata": {
    "collapsed": false
   },
   "outputs": [],
   "source": [
    "\n",
    "from scipy import integrate\n",
    "from pylab import *\n"
   ]
  },
  {
   "cell_type": "code",
   "execution_count": 11,
   "metadata": {
    "collapsed": false
   },
   "outputs": [],
   "source": [
    "\n",
    "def rlc(A,t):\n",
    "    Vc,x=A\n",
    "    V = 1.0 #voltageSource \n",
    "    R = 1.0 #Resistance\n",
    "    L=100.0e-9 #100nH\n",
    "    C = 1.0e-9 #1nF\n",
    "    res=array([x,(V-Vc-(x*R*C))/(L*C)])\n",
    "    return res\n",
    "\n",
    "time = linspace(0.0,0.6e-6,1001)\n",
    "vc,x = integrate.odeint(rlc,[0.0,0.0],time).T \n",
    "i=1.0e-9*x #current \n",
    "figure() \n",
    "plot(time,vc)\n",
    "plot(time,i) \n",
    "xlabel('t') \n",
    "ylabel('Vc') \n",
    "show()"
   ]
  }
 ],
 "metadata": {
  "kernelspec": {
   "display_name": "Python [Root]",
   "language": "python",
   "name": "Python [Root]"
  },
  "language_info": {
   "codemirror_mode": {
    "name": "ipython",
    "version": 2
   },
   "file_extension": ".py",
   "mimetype": "text/x-python",
   "name": "python",
   "nbconvert_exporter": "python",
   "pygments_lexer": "ipython2",
   "version": "2.7.12"
  }
 },
 "nbformat": 4,
 "nbformat_minor": 0
}
